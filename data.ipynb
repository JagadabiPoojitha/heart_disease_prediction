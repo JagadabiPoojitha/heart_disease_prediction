{
 "cells": [
  {
   "cell_type": "code",
   "execution_count": 6,
   "metadata": {},
   "outputs": [],
   "source": [
    "\n",
    "import pandas as pd\n",
    "from sklearn.datasets import load_iris\n",
    "from sklearn.model_selection import train_test_split\n",
    "from sklearn.preprocessing import StandardScaler\n",
    "from sklearn.neighbors import KNeighborsRegressor\n",
    "from sklearn.metrics import mean_squared_error,mean_absolute_error\n",
    "\n"
   ]
  },
  {
   "cell_type": "code",
   "execution_count": 2,
   "metadata": {},
   "outputs": [
    {
     "name": "stdout",
     "output_type": "stream",
     "text": [
      "     sepal length (cm)  sepal width (cm)  petal length (cm)  petal width (cm)\n",
      "0                  5.1               3.5                1.4               0.2\n",
      "1                  4.9               3.0                1.4               0.2\n",
      "2                  4.7               3.2                1.3               0.2\n",
      "3                  4.6               3.1                1.5               0.2\n",
      "4                  5.0               3.6                1.4               0.2\n",
      "..                 ...               ...                ...               ...\n",
      "145                6.7               3.0                5.2               2.3\n",
      "146                6.3               2.5                5.0               1.9\n",
      "147                6.5               3.0                5.2               2.0\n",
      "148                6.2               3.4                5.4               2.3\n",
      "149                5.9               3.0                5.1               1.8\n",
      "\n",
      "[150 rows x 4 columns]\n"
     ]
    }
   ],
   "source": [
    "data=load_iris()\n",
    "df = pd.DataFrame(data.data, columns=data.feature_names)\n",
    "print(df)"
   ]
  },
  {
   "cell_type": "code",
   "execution_count": 3,
   "metadata": {},
   "outputs": [
    {
     "data": {
      "text/plain": [
       "0      0.2\n",
       "1      0.2\n",
       "2      0.2\n",
       "3      0.2\n",
       "4      0.2\n",
       "      ... \n",
       "145    2.3\n",
       "146    1.9\n",
       "147    2.0\n",
       "148    2.3\n",
       "149    1.8\n",
       "Name: petal width (cm), Length: 150, dtype: float64"
      ]
     },
     "execution_count": 3,
     "metadata": {},
     "output_type": "execute_result"
    }
   ],
   "source": [
    "x=df.drop(columns=['petal width (cm)'])\n",
    "y=df['petal width (cm)']\n",
    "y\n"
   ]
  },
  {
   "cell_type": "code",
   "execution_count": 15,
   "metadata": {},
   "outputs": [
    {
     "name": "stdout",
     "output_type": "stream",
     "text": [
      "[[-0.93439776  1.16272852 -1.2708697 ]\n",
      " [ 0.57144987 -1.54129129  0.78250056]\n",
      " [-1.62940436 -0.18928139 -1.2708697 ]\n",
      " [-0.12355673 -0.73008535  0.28303212]\n",
      " [ 1.15062203  0.35152258  1.281969  ]\n",
      " [ 0.80311873 -0.18928139  1.05998303]\n",
      " [ 0.45561544  0.89232654  1.00448653]\n",
      " [-0.81856333  0.89232654 -1.15987671]\n",
      " [ 2.19313193 -0.18928139  1.39296199]\n",
      " [-0.81856333  0.62192456 -1.04888373]\n",
      " [-0.23939116 -0.18928139  0.50501809]\n",
      " [-0.47106003  2.24433644 -1.2708697 ]\n",
      " [-0.47106003  0.89232654 -1.15987671]\n",
      " [-0.81856333  1.70353248 -1.15987671]\n",
      " [ 1.3822909   0.35152258  0.61601108]\n",
      " [ 1.61395976  0.35152258  1.33746549]\n",
      " [ 1.0347876  -1.54129129  1.22647251]\n",
      " [ 0.10811214 -0.18928139  0.33852861]\n",
      " [-1.39773549  0.89232654 -1.21537321]\n",
      " [ 0.57144987 -1.54129129  0.72700406]\n",
      " [-1.05023219 -0.18928139 -1.21537321]\n",
      " [ 0.339781   -0.73008535  0.22753562]\n",
      " [ 0.45561544 -0.73008535  0.67150757]\n",
      " [ 0.22394657 -0.45968337  0.50501809]\n",
      " [-1.16606662  0.89232654 -0.93789074]\n",
      " [ 1.0347876  -0.18928139  0.89349355]\n",
      " [ 1.0347876  -0.18928139  0.78250056]\n",
      " [-0.35522559 -1.27088931  0.4495216 ]\n",
      " [-1.16606662  0.89232654 -1.10438022]\n",
      " [-1.51356992 -2.08209525 -1.2708697 ]]\n"
     ]
    }
   ],
   "source": [
    "x_train,x_test,y_train,y_test=train_test_split(x,y,test_size=0.2,random_state=12)\n",
    "\n",
    "scaler=StandardScaler()\n",
    "x_train_scaled=scaler.fit_transform(x_train)\n",
    "x_test_scaled=scaler.fit_transform(x_test)\n",
    "\n",
    "model=KNeighborsRegressor(n_neighbors=5)\n",
    "model.fit(x_train_scaled,y_train)\n",
    "y_predict=model.predict(x_test_scaled)\n",
    "\n",
    "print(x_test_scaled)\n"
   ]
  },
  {
   "cell_type": "code",
   "execution_count": 24,
   "metadata": {},
   "outputs": [
    {
     "data": {
      "text/plain": [
       "array([0.36666667, 1.7       , 0.16666667, 1.2       , 2.3       ,\n",
       "       2.        , 2.16666667, 0.26666667, 1.96666667, 0.26666667,\n",
       "       1.33333333, 0.3       , 0.2       , 0.23333333, 1.76666667,\n",
       "       2.        , 2.06666667, 1.3       , 0.2       , 1.7       ,\n",
       "       0.2       , 1.16666667, 1.5       , 1.36666667, 0.4       ,\n",
       "       2.16666667, 1.86666667, 1.23333333, 0.4       , 1.03333333])"
      ]
     },
     "execution_count": 24,
     "metadata": {},
     "output_type": "execute_result"
    }
   ],
   "source": [
    "from sklearn.pipeline import Pipeline\n",
    "pipe = Pipeline([('scaler', StandardScaler()), \n",
    "                 ('knn', KNeighborsRegressor(n_neighbors=3))])\n",
    "\n",
    "# Fit the pipeline to the training data\n",
    "pipe.fit(x_train, y_train)\n",
    "\n",
    "# Make predictions using the fitted pipeline\n",
    "y_predict_pipe = pipe.predict(x_test)\n",
    "y_predict_pipe"
   ]
  },
  {
   "cell_type": "code",
   "execution_count": 25,
   "metadata": {},
   "outputs": [
    {
     "data": {
      "text/plain": [
       "['pipeline.pkl']"
      ]
     },
     "execution_count": 25,
     "metadata": {},
     "output_type": "execute_result"
    }
   ],
   "source": [
    "import joblib\n",
    "\n",
    "joblib.dump(pipe,'pipeline.pkl')"
   ]
  },
  {
   "cell_type": "code",
   "execution_count": 27,
   "metadata": {},
   "outputs": [
    {
     "data": {
      "text/plain": [
       "array([0.36666667, 1.7       , 0.16666667, 1.2       , 2.3       ,\n",
       "       2.        , 2.16666667, 0.26666667, 1.96666667, 0.26666667,\n",
       "       1.33333333, 0.3       , 0.2       , 0.23333333, 1.76666667,\n",
       "       2.        , 2.06666667, 1.3       , 0.2       , 1.7       ,\n",
       "       0.2       , 1.16666667, 1.5       , 1.36666667, 0.4       ,\n",
       "       2.16666667, 1.86666667, 1.23333333, 0.4       , 1.03333333])"
      ]
     },
     "execution_count": 27,
     "metadata": {},
     "output_type": "execute_result"
    }
   ],
   "source": [
    "l_pipeline=joblib.load('pipeline.pkl')\n",
    "predictions=l_pipeline.predict(x_test)\n",
    "predictions"
   ]
  },
  {
   "cell_type": "code",
   "execution_count": null,
   "metadata": {},
   "outputs": [],
   "source": []
  }
 ],
 "metadata": {
  "kernelspec": {
   "display_name": "Python 3",
   "language": "python",
   "name": "python3"
  },
  "language_info": {
   "codemirror_mode": {
    "name": "ipython",
    "version": 3
   },
   "file_extension": ".py",
   "mimetype": "text/x-python",
   "name": "python",
   "nbconvert_exporter": "python",
   "pygments_lexer": "ipython3",
   "version": "3.12.1"
  }
 },
 "nbformat": 4,
 "nbformat_minor": 2
}
